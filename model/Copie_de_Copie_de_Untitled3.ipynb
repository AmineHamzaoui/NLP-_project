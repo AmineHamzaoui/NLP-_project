{
  "cells": [
    {
      "cell_type": "code",
      "execution_count": 15,
      "metadata": {
        "id": "4VllB49o9prg"
      },
      "outputs": [],
      "source": [
        "import pandas as pd\n",
        "import csv "
      ]
    },
    {
      "cell_type": "code",
      "execution_count": 17,
      "metadata": {
        "id": "6CBBSqVN9273"
      },
      "outputs": [],
      "source": [
        "df= pd.read_csv(\"Suicide_Detection (2).csv\", on_bad_lines='skip', encoding = \"ISO-8859-1\",  quoting=csv.QUOTE_NONE,  lineterminator='\\n')"
      ]
    },
    {
      "cell_type": "code",
      "execution_count": 18,
      "metadata": {
        "colab": {
          "base_uri": "https://localhost:8080/",
          "height": 780
        },
        "id": "eJlQ3xXuDL7H",
        "outputId": "44bddd8d-fed1-4fff-8438-bad5f75cb9ab"
      },
      "outputs": [
        {
          "data": {
            "text/html": [
              "\n",
              "  <div id=\"df-99fc7059-491b-4f8b-b9ea-f1f9d36ceca4\">\n",
              "    <div class=\"colab-df-container\">\n",
              "      <div>\n",
              "<style scoped>\n",
              "    .dataframe tbody tr th:only-of-type {\n",
              "        vertical-align: middle;\n",
              "    }\n",
              "\n",
              "    .dataframe tbody tr th {\n",
              "        vertical-align: top;\n",
              "    }\n",
              "\n",
              "    .dataframe thead th {\n",
              "        text-align: right;\n",
              "    }\n",
              "</style>\n",
              "<table border=\"1\" class=\"dataframe\">\n",
              "  <thead>\n",
              "    <tr style=\"text-align: right;\">\n",
              "      <th></th>\n",
              "      <th></th>\n",
              "      <th>Unnamed: 0</th>\n",
              "      <th>text</th>\n",
              "      <th>class</th>\n",
              "    </tr>\n",
              "  </thead>\n",
              "  <tbody>\n",
              "    <tr>\n",
              "      <th>2</th>\n",
              "      <th>\"Ex Wife Threatening SuicideRecently I left my wife for good because she has cheated on me twice and lied to me so much that I have decided to refuse to go back to her. As of a few days ago</th>\n",
              "      <td>she began threatening suicide. I have tireles...</td>\n",
              "      <td>but what happens if she really does? What do ...</td>\n",
              "      <td>suicide</td>\n",
              "    </tr>\n",
              "    <tr>\n",
              "      <th>3</th>\n",
              "      <th>Am I weird I don't get affected by compliments if it's coming from someone I know irl but I feel really good when internet strangers do it</th>\n",
              "      <td>non-suicide</td>\n",
              "      <td>NaN</td>\n",
              "      <td>NaN</td>\n",
              "    </tr>\n",
              "    <tr>\n",
              "      <th>4</th>\n",
              "      <th>\"Finally 2020 is almost over... So I can never hear \"\"2020 has been a bad year\"\" ever again. I swear to fucking God it's so annoying\"</th>\n",
              "      <td>non-suicide</td>\n",
              "      <td>NaN</td>\n",
              "      <td>NaN</td>\n",
              "    </tr>\n",
              "    <tr>\n",
              "      <th>8</th>\n",
              "      <th>i need helpjust help me im crying so hard</th>\n",
              "      <td>suicide</td>\n",
              "      <td>NaN</td>\n",
              "      <td>NaN</td>\n",
              "    </tr>\n",
              "    <tr>\n",
              "      <th>I was later transferred to a fucken group therapy for some reason which made me feel more anxious. Eventually before my last session with a 1 on 1 therapy she showed me my results from a daily check up on my feelings(which was a 2 - step survey for me and my mom/dad )</th>\n",
              "      <th>NaN</th>\n",
              "      <td>NaN</td>\n",
              "      <td>NaN</td>\n",
              "      <td>NaN</td>\n",
              "    </tr>\n",
              "    <tr>\n",
              "      <th>...</th>\n",
              "      <th>...</th>\n",
              "      <td>...</td>\n",
              "      <td>...</td>\n",
              "      <td>...</td>\n",
              "    </tr>\n",
              "    <tr>\n",
              "      <th>4. Both start with \"\"Ga\"\"</th>\n",
              "      <th>NaN</th>\n",
              "      <td>NaN</td>\n",
              "      <td>NaN</td>\n",
              "      <td>NaN</td>\n",
              "    </tr>\n",
              "    <tr>\n",
              "      <th>1 like = 1 prayer for the Gaymers to rise up.\"</th>\n",
              "      <th>non-suicide</th>\n",
              "      <td>NaN</td>\n",
              "      <td>NaN</td>\n",
              "      <td>NaN</td>\n",
              "    </tr>\n",
              "    <tr>\n",
              "      <th>310805</th>\n",
              "      <th>\"Why would you should watch Boku No Pico Boku no Pico is a god damn masterpiece.</th>\n",
              "      <td>NaN</td>\n",
              "      <td>NaN</td>\n",
              "      <td>NaN</td>\n",
              "    </tr>\n",
              "    <tr>\n",
              "      <th>And if anyone doesnât know</th>\n",
              "      <th>Boku No Pico is about a Alchemist who finds a kid named Pico. He then trains Pico in the ways of Alchemy. Pico now fights with his friends Coco (a dude who wields a fucking Bone sword</th>\n",
              "      <td>itâs badass) and Chico (A man who is trying...</td>\n",
              "      <td>and pay for her medical bills).\"</td>\n",
              "      <td>non-suicide</td>\n",
              "    </tr>\n",
              "    <tr>\n",
              "      <th>310807</th>\n",
              "      <th>\"Giving upIâm 19 years old</th>\n",
              "      <td>7500 in debt to friends and family because of...</td>\n",
              "      <td>they think the money I lent them is for schoo...</td>\n",
              "      <td>NaN</td>\n",
              "    </tr>\n",
              "  </tbody>\n",
              "</table>\n",
              "<p>1039779 rows × 3 columns</p>\n",
              "</div>\n",
              "      <button class=\"colab-df-convert\" onclick=\"convertToInteractive('df-99fc7059-491b-4f8b-b9ea-f1f9d36ceca4')\"\n",
              "              title=\"Convert this dataframe to an interactive table.\"\n",
              "              style=\"display:none;\">\n",
              "        \n",
              "  <svg xmlns=\"http://www.w3.org/2000/svg\" height=\"24px\"viewBox=\"0 0 24 24\"\n",
              "       width=\"24px\">\n",
              "    <path d=\"M0 0h24v24H0V0z\" fill=\"none\"/>\n",
              "    <path d=\"M18.56 5.44l.94 2.06.94-2.06 2.06-.94-2.06-.94-.94-2.06-.94 2.06-2.06.94zm-11 1L8.5 8.5l.94-2.06 2.06-.94-2.06-.94L8.5 2.5l-.94 2.06-2.06.94zm10 10l.94 2.06.94-2.06 2.06-.94-2.06-.94-.94-2.06-.94 2.06-2.06.94z\"/><path d=\"M17.41 7.96l-1.37-1.37c-.4-.4-.92-.59-1.43-.59-.52 0-1.04.2-1.43.59L10.3 9.45l-7.72 7.72c-.78.78-.78 2.05 0 2.83L4 21.41c.39.39.9.59 1.41.59.51 0 1.02-.2 1.41-.59l7.78-7.78 2.81-2.81c.8-.78.8-2.07 0-2.86zM5.41 20L4 18.59l7.72-7.72 1.47 1.35L5.41 20z\"/>\n",
              "  </svg>\n",
              "      </button>\n",
              "      \n",
              "  <style>\n",
              "    .colab-df-container {\n",
              "      display:flex;\n",
              "      flex-wrap:wrap;\n",
              "      gap: 12px;\n",
              "    }\n",
              "\n",
              "    .colab-df-convert {\n",
              "      background-color: #E8F0FE;\n",
              "      border: none;\n",
              "      border-radius: 50%;\n",
              "      cursor: pointer;\n",
              "      display: none;\n",
              "      fill: #1967D2;\n",
              "      height: 32px;\n",
              "      padding: 0 0 0 0;\n",
              "      width: 32px;\n",
              "    }\n",
              "\n",
              "    .colab-df-convert:hover {\n",
              "      background-color: #E2EBFA;\n",
              "      box-shadow: 0px 1px 2px rgba(60, 64, 67, 0.3), 0px 1px 3px 1px rgba(60, 64, 67, 0.15);\n",
              "      fill: #174EA6;\n",
              "    }\n",
              "\n",
              "    [theme=dark] .colab-df-convert {\n",
              "      background-color: #3B4455;\n",
              "      fill: #D2E3FC;\n",
              "    }\n",
              "\n",
              "    [theme=dark] .colab-df-convert:hover {\n",
              "      background-color: #434B5C;\n",
              "      box-shadow: 0px 1px 3px 1px rgba(0, 0, 0, 0.15);\n",
              "      filter: drop-shadow(0px 1px 2px rgba(0, 0, 0, 0.3));\n",
              "      fill: #FFFFFF;\n",
              "    }\n",
              "  </style>\n",
              "\n",
              "      <script>\n",
              "        const buttonEl =\n",
              "          document.querySelector('#df-99fc7059-491b-4f8b-b9ea-f1f9d36ceca4 button.colab-df-convert');\n",
              "        buttonEl.style.display =\n",
              "          google.colab.kernel.accessAllowed ? 'block' : 'none';\n",
              "\n",
              "        async function convertToInteractive(key) {\n",
              "          const element = document.querySelector('#df-99fc7059-491b-4f8b-b9ea-f1f9d36ceca4');\n",
              "          const dataTable =\n",
              "            await google.colab.kernel.invokeFunction('convertToInteractive',\n",
              "                                                     [key], {});\n",
              "          if (!dataTable) return;\n",
              "\n",
              "          const docLinkHtml = 'Like what you see? Visit the ' +\n",
              "            '<a target=\"_blank\" href=https://colab.research.google.com/notebooks/data_table.ipynb>data table notebook</a>'\n",
              "            + ' to learn more about interactive tables.';\n",
              "          element.innerHTML = '';\n",
              "          dataTable['output_type'] = 'display_data';\n",
              "          await google.colab.output.renderOutput(dataTable, element);\n",
              "          const docLink = document.createElement('div');\n",
              "          docLink.innerHTML = docLinkHtml;\n",
              "          element.appendChild(docLink);\n",
              "        }\n",
              "      </script>\n",
              "    </div>\n",
              "  </div>\n",
              "  "
            ],
            "text/plain": [
              "                                                                                                                                              Unnamed: 0  \\\n",
              "2                                                  \"Ex Wife Threatening SuicideRecently I left my ...   she began threatening suicide. I have tireles...   \n",
              "3                                                  Am I weird I don't get affected by compliments ...                                        non-suicide   \n",
              "4                                                  \"Finally 2020 is almost over... So I can never ...                                        non-suicide   \n",
              "8                                                  i need helpjust help me im crying so hard                                                     suicide   \n",
              "I was later transferred to a fucken group thera... NaN                                                                                               NaN   \n",
              "...                                                                                                                                                  ...   \n",
              "4. Both start with \"\"Ga\"\"                          NaN                                                                                               NaN   \n",
              "1 like = 1 prayer for the Gaymers to rise up.\"     non-suicide                                                                                       NaN   \n",
              "310805                                             \"Why would you should watch Boku No Pico Boku n...                                                NaN   \n",
              "And if anyone doesnât know                        Boku No Pico is about a Alchemist who finds a ...   itâs badass) and Chico (A man who is trying...   \n",
              "310807                                             \"Giving upIâm 19 years old                         7500 in debt to friends and family because of...   \n",
              "\n",
              "                                                                                                                                                    text  \\\n",
              "2                                                  \"Ex Wife Threatening SuicideRecently I left my ...   but what happens if she really does? What do ...   \n",
              "3                                                  Am I weird I don't get affected by compliments ...                                                NaN   \n",
              "4                                                  \"Finally 2020 is almost over... So I can never ...                                                NaN   \n",
              "8                                                  i need helpjust help me im crying so hard                                                         NaN   \n",
              "I was later transferred to a fucken group thera... NaN                                                                                               NaN   \n",
              "...                                                                                                                                                  ...   \n",
              "4. Both start with \"\"Ga\"\"                          NaN                                                                                               NaN   \n",
              "1 like = 1 prayer for the Gaymers to rise up.\"     non-suicide                                                                                       NaN   \n",
              "310805                                             \"Why would you should watch Boku No Pico Boku n...                                                NaN   \n",
              "And if anyone doesnât know                        Boku No Pico is about a Alchemist who finds a ...                   and pay for her medical bills).\"   \n",
              "310807                                             \"Giving upIâm 19 years old                         they think the money I lent them is for schoo...   \n",
              "\n",
              "                                                                                                             class  \n",
              "2                                                  \"Ex Wife Threatening SuicideRecently I left my ...      suicide  \n",
              "3                                                  Am I weird I don't get affected by compliments ...          NaN  \n",
              "4                                                  \"Finally 2020 is almost over... So I can never ...          NaN  \n",
              "8                                                  i need helpjust help me im crying so hard                   NaN  \n",
              "I was later transferred to a fucken group thera... NaN                                                         NaN  \n",
              "...                                                                                                            ...  \n",
              "4. Both start with \"\"Ga\"\"                          NaN                                                         NaN  \n",
              "1 like = 1 prayer for the Gaymers to rise up.\"     non-suicide                                                 NaN  \n",
              "310805                                             \"Why would you should watch Boku No Pico Boku n...          NaN  \n",
              "And if anyone doesnât know                        Boku No Pico is about a Alchemist who finds a ...  non-suicide  \n",
              "310807                                             \"Giving upIâm 19 years old                                NaN  \n",
              "\n",
              "[1039779 rows x 3 columns]"
            ]
          },
          "execution_count": 18,
          "metadata": {},
          "output_type": "execute_result"
        }
      ],
      "source": [
        "df"
      ]
    },
    {
      "cell_type": "code",
      "execution_count": null,
      "metadata": {
        "id": "fI7biWLjja_o"
      },
      "outputs": [],
      "source": [
        "def combine_paragraphs(df, column_name):\n",
        "    \"\"\"\n",
        "    Combines paragraphs with the same number into a single text, with each text in a separate row of a new dataframe.\n",
        "    The input dataframe must have at least two columns, with the first column containing the numbers\n",
        "    and the second column containing the text.\n",
        "    \"\"\"\n",
        "    current_num = None\n",
        "    current_text = []\n",
        "    texts = []\n",
        "    for num, text in zip(df.iloc[:,0], df[text]):\n",
        "        if num != current_num:\n",
        "            if current_num is not None:\n",
        "                texts.append([' '.join(current_text)])\n",
        "            current_num = num\n",
        "            current_text = []\n",
        "        current_text.append(text)\n",
        "    texts.append([' '.join(current_text)])\n",
        "    return pd.DataFrame(texts, columns=[text])"
      ]
    },
    {
      "cell_type": "code",
      "execution_count": null,
      "metadata": {
        "colab": {
          "base_uri": "https://localhost:8080/"
        },
        "id": "LwBx_fpFFm19",
        "outputId": "232adbe3-b54f-41e1-8082-9fe0f2ba80eb"
      },
      "outputs": [
        {
          "name": "stdout",
          "output_type": "stream",
          "text": [
            "pytorch_model.bin  \u001b[0m\u001b[01;34msample_data\u001b[0m/  trainc.csv\n"
          ]
        }
      ],
      "source": [
        "ls"
      ]
    },
    {
      "cell_type": "code",
      "execution_count": null,
      "metadata": {
        "colab": {
          "base_uri": "https://localhost:8080/"
        },
        "id": "YyuxUmKbNppu",
        "outputId": "ac7c07c8-89e1-4beb-b671-30546b0fe14b"
      },
      "outputs": [
        {
          "name": "stderr",
          "output_type": "stream",
          "text": [
            "[nltk_data] Downloading package stopwords to /root/nltk_data...\n",
            "[nltk_data]   Unzipping corpora/stopwords.zip.\n"
          ]
        },
        {
          "data": {
            "text/plain": [
              "True"
            ]
          },
          "execution_count": 17,
          "metadata": {},
          "output_type": "execute_result"
        }
      ],
      "source": [
        "import pickle\n",
        "import re\n",
        "import numpy as np\n",
        "import pandas as pd\n",
        "from tqdm import tqdm\n",
        "import nltk\n",
        "nltk.download('stopwords')"
      ]
    },
    {
      "cell_type": "code",
      "execution_count": null,
      "metadata": {
        "id": "B7OjyjBuOZBq"
      },
      "outputs": [],
      "source": [
        "def preprocess_tweet(text):\n",
        "    text = re.sub('<[^>]*>', '', text)\n",
        "    emoticons = re.findall('(?::|;|=)(?:-)?(?:\\)|\\(|D|P)', text)\n",
        "    lowercase_text = re.sub('[\\W]+', ' ', text.lower())\n",
        "    text = lowercase_text+' '.join(emoticons).replace('-', '') \n",
        "    return text"
      ]
    },
    {
      "cell_type": "code",
      "execution_count": null,
      "metadata": {
        "colab": {
          "base_uri": "https://localhost:8080/"
        },
        "id": "Fs0wmO8YOjKM",
        "outputId": "db901836-26f7-45f0-9c19-9d2b213dcee8"
      },
      "outputs": [
        {
          "name": "stderr",
          "output_type": "stream",
          "text": [
            "100%|██████████| 425/425 [00:00<00:00, 27003.05it/s]\n"
          ]
        }
      ],
      "source": [
        "tqdm.pandas()\n",
        "\n",
        "df['Tweet Text'] = df['Tweet Text'].progress_apply(preprocess_tweet)"
      ]
    },
    {
      "cell_type": "code",
      "execution_count": null,
      "metadata": {
        "id": "nofPz-rTO4tx"
      },
      "outputs": [],
      "source": [
        "from nltk.stem.porter import PorterStemmer\n",
        "porter = PorterStemmer()\n",
        "def tokenizer_porter(text):\n",
        "    return [porter.stem(word) for word in text.split()]"
      ]
    },
    {
      "cell_type": "code",
      "execution_count": null,
      "metadata": {
        "id": "DReL01crPHmI"
      },
      "outputs": [],
      "source": [
        "from nltk.corpus import stopwords\n",
        "stop = stopwords.words('english')"
      ]
    },
    {
      "cell_type": "code",
      "execution_count": null,
      "metadata": {
        "colab": {
          "base_uri": "https://localhost:8080/"
        },
        "id": "koAfZJPHPNP7",
        "outputId": "4924f886-e8fb-4c05-9a62-204167654df4"
      },
      "outputs": [
        {
          "data": {
            "text/plain": [
              "['runner', 'like', 'run', 'run', 'lot']"
            ]
          },
          "execution_count": 26,
          "metadata": {},
          "output_type": "execute_result"
        }
      ],
      "source": [
        "[w for w in tokenizer_porter('a runner likes running and runs a lot') if w not in stop]"
      ]
    },
    {
      "cell_type": "code",
      "execution_count": null,
      "metadata": {
        "id": "WNfxFXFAPPCh"
      },
      "outputs": [],
      "source": [
        "def tokenizer(text):\n",
        "    text = re.sub('<[^>]*>', '', text)\n",
        "    emoticons = re.findall('(?::|;|=)(?:-)?(?:\\(|D|P)',text.lower())\n",
        "    text = re.sub('[\\W]+', ' ', text.lower())\n",
        "    text += ' '.join(emoticons).replace('-', '')\n",
        "    tokenized = [w for w in tokenizer_porter(text) if w not in stop]\n",
        "    return tokenized"
      ]
    },
    {
      "cell_type": "code",
      "execution_count": null,
      "metadata": {
        "id": "mJkSJnA6gqW4"
      },
      "outputs": [],
      "source": [
        "from sklearn.feature_extraction.text import HashingVectorizer\n",
        "vect = HashingVectorizer(decode_error='ignore', n_features=2**21, \n",
        "                         preprocessor=None,tokenizer=tokenizer)"
      ]
    },
    {
      "cell_type": "code",
      "execution_count": null,
      "metadata": {
        "id": "fN2NAUMDgrVC"
      },
      "outputs": [],
      "source": [
        "from sklearn.linear_model import SGDClassifier\n",
        "clf = SGDClassifier(loss='log', random_state=1)"
      ]
    },
    {
      "cell_type": "code",
      "execution_count": null,
      "metadata": {
        "id": "qykE1i0tgtpY"
      },
      "outputs": [],
      "source": [
        "X = df[\"text\"].to_list()\n",
        "y = df['class']"
      ]
    },
    {
      "cell_type": "code",
      "execution_count": null,
      "metadata": {
        "id": "JyYwWIrng3Uu"
      },
      "outputs": [],
      "source": [
        "from sklearn.model_selection import train_test_split\n",
        "X_train,X_test,y_train,y_test = train_test_split(X,\n",
        "                                                 y,\n",
        "                                                 test_size=0.20,\n",
        "                                                 random_state=0)"
      ]
    },
    {
      "cell_type": "code",
      "execution_count": null,
      "metadata": {
        "id": "6WLzp3p8g7NB"
      },
      "outputs": [],
      "source": [
        "X_train = vect.transform(X_train)\n",
        "X_test = vect.transform(X_test)"
      ]
    },
    {
      "cell_type": "code",
      "execution_count": null,
      "metadata": {
        "id": "ZJcwyMmqg-zn"
      },
      "outputs": [],
      "source": [
        "classes = np.array([0, 1])\n",
        "clf.partial_fit(X_train, y_train,classes=classes)"
      ]
    },
    {
      "cell_type": "code",
      "execution_count": null,
      "metadata": {
        "id": "AtrKFWX0hEs6"
      },
      "outputs": [],
      "source": [
        "print('Accuracy: %.3f' % clf.score(X_test, y_test))"
      ]
    },
    {
      "cell_type": "code",
      "execution_count": null,
      "metadata": {
        "id": "WdaFbRPNhIgb"
      },
      "outputs": [],
      "source": []
    },
    {
      "cell_type": "code",
      "execution_count": null,
      "metadata": {
        "id": "1YXkjC7ehL_G"
      },
      "outputs": [],
      "source": [
        "clf = clf.partial_fit(X_test, y_test)"
      ]
    },
    {
      "cell_type": "code",
      "execution_count": null,
      "metadata": {
        "id": "Y77Shz8bhO5u"
      },
      "outputs": [],
      "source": [
        "label = {0:'negative', 1:'positive'}\n",
        "example = [\"I'll kill myself am tired of living depressed and alone\"]\n",
        "X = vect.transform(example)\n",
        "print('Prediction: %s\\nProbability: %.2f%%'\n",
        "      %(label[clf.predict(X)[0]],np.max(clf.predict_proba(X))*100))"
      ]
    },
    {
      "cell_type": "code",
      "execution_count": null,
      "metadata": {
        "id": "moNW4rfFhQlD"
      },
      "outputs": [],
      "source": []
    },
    {
      "cell_type": "code",
      "execution_count": 19,
      "metadata": {
        "colab": {
          "base_uri": "https://localhost:8080/",
          "height": 235
        },
        "id": "AZ6e8u5DhTO9",
        "outputId": "4cf97f90-8dbc-4dfe-9928-55d6c3c5fdce"
      },
      "outputs": [
        {
          "ename": "AttributeError",
          "evalue": "ignored",
          "output_type": "error",
          "traceback": [
            "\u001b[0;31m---------------------------------------------------------------------------\u001b[0m",
            "\u001b[0;31mAttributeError\u001b[0m                            Traceback (most recent call last)",
            "\u001b[0;32m<ipython-input-19-5b591121978b>\u001b[0m in \u001b[0;36m<module>\u001b[0;34m\u001b[0m\n\u001b[1;32m     18\u001b[0m \u001b[0;34m\u001b[0m\u001b[0m\n\u001b[1;32m     19\u001b[0m \u001b[0;31m# Search for tweets containing the keyword\u001b[0m\u001b[0;34m\u001b[0m\u001b[0;34m\u001b[0m\u001b[0m\n\u001b[0;32m---> 20\u001b[0;31m \u001b[0mtweets\u001b[0m \u001b[0;34m=\u001b[0m \u001b[0mapi\u001b[0m\u001b[0;34m.\u001b[0m\u001b[0msearch\u001b[0m\u001b[0;34m(\u001b[0m\u001b[0mq\u001b[0m\u001b[0;34m=\u001b[0m\u001b[0mkeyword\u001b[0m\u001b[0;34m)\u001b[0m\u001b[0;34m\u001b[0m\u001b[0;34m\u001b[0m\u001b[0m\n\u001b[0m\u001b[1;32m     21\u001b[0m \u001b[0;34m\u001b[0m\u001b[0m\n\u001b[1;32m     22\u001b[0m \u001b[0;31m# Extract the text of the tweets\u001b[0m\u001b[0;34m\u001b[0m\u001b[0;34m\u001b[0m\u001b[0m\n",
            "\u001b[0;31mAttributeError\u001b[0m: 'API' object has no attribute 'search'"
          ]
        }
      ],
      "source": [
        "\n",
        "import tweepy\n",
        "import pandas as pd\n",
        "import pre_trained_model # your pre-trained classification model\n",
        "from calmharm import CalmHarm # or any other similar intervention tool\n",
        "\n",
        "# Set up Twitter API credentials\n",
        "consumer_key = 'your_consumer_key'\n",
        "consumer_secret = 'your_consumer_secret'\n",
        "access_token = 'your_access_token'\n",
        "access_token_secret = 'your_access_token_secret'\n",
        "\n",
        "# Authenticate your application\n",
        "auth = tweepy.OAuthHandler(consumer_key, consumer_secret)\n",
        "auth.set_access_token(access_token, access_token_secret)\n",
        "api = tweepy.API(auth, wait_on_rate_limit=True)\n",
        "\n",
        "# Define your keyword(s) to search for tweets\n",
        "keywords = ['suicide','void','anger','sad','sadness','my mother died',\"I'm going to die\",\"no goals\",\"no purpose\",\"hurt\",\"left out\" ,\"alone\",\"depression\",\"depressed\"]\n",
        "\n",
        "# Use the tweepy.Cursor() method to search for tweets containing your keyword(s)\n",
        "tweets = tweepy.Cursor(api.search_tweets,\n",
        "              q=keywords,\n",
        "              lang='en',\n",
        "              tweet_mode='extended').items(50)\n",
        "\n",
        "# Extract the text of the tweets and store them in a pandas DataFrame\n",
        "data = pd.DataFrame(data=[tweet.full_text for tweet in tweets], columns=['text'])\n",
        "\n",
        "# Preprocess the tweet text\n",
        "# (remove unwanted characters/symbols, tokenize, and convert to numerical representation)\n",
        "# Assume your pre-trained model takes in a list of tokenized texts\n",
        "preprocessed_texts = preprocess_text(data['text'])\n",
        "numerical_representation = convert_to_numerical(preprocessed_texts)\n",
        "\n",
        "# Use your pre-trained model to classify the tweets as suicide-related or not\n",
        "predictions = pre_trained_model.predict(numerical_representation)\n",
        "\n",
        "# Respond to the classified tweets using Calm Harm or a similar intervention tool\n",
        "for i, prediction in enumerate(predictions):\n",
        "    if prediction == 1:\n",
        "        response = CalmHarm().get_tip()\n",
        "        api.update_status('@' + tweets[i].user.screen_name + ' ' + response, tweets[i].id)"
      ]
    }
  ],
  "metadata": {
    "colab": {
      "provenance": []
    },
    "kernelspec": {
      "display_name": "Python 3",
      "name": "python3"
    },
    "language_info": {
      "name": "python"
    }
  },
  "nbformat": 4,
  "nbformat_minor": 0
}
